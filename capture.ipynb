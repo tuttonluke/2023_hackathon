{
 "cells": [
  {
   "cell_type": "code",
   "execution_count": 1,
   "metadata": {},
   "outputs": [
    {
     "name": "stderr",
     "output_type": "stream",
     "text": [
      "c:\\Users\\Nick\\anaconda3\\envs\\hack23\\Lib\\site-packages\\whisper\\timing.py:57: NumbaDeprecationWarning: \u001b[1mThe 'nopython' keyword argument was not supplied to the 'numba.jit' decorator. The implicit default value for this argument is currently False, but it will be changed to True in Numba 0.59.0. See https://numba.readthedocs.io/en/stable/reference/deprecation.html#deprecation-of-object-mode-fall-back-behaviour-when-using-jit for details.\u001b[0m\n",
      "  @numba.jit\n"
     ]
    }
   ],
   "source": [
    "import speech_to_text"
   ]
  },
  {
   "cell_type": "code",
   "execution_count": 2,
   "metadata": {},
   "outputs": [],
   "source": [
    "streamer = speech_to_text.Streamer()"
   ]
  },
  {
   "cell_type": "code",
   "execution_count": 14,
   "metadata": {},
   "outputs": [],
   "source": [
    "streamer.start_recording()\n",
    "\n",
    "frames=[]\n",
    "\n",
    "for _ in range(int(speech_to_text.frame_rate / speech_to_text.chunk * 10)):\n",
    "    frames.append(streamer.get_audio())\n",
    "\n",
    "streamer.stop_recording()"
   ]
  },
  {
   "cell_type": "code",
   "execution_count": 15,
   "metadata": {},
   "outputs": [],
   "source": [
    "text = speech_to_text.audio_to_text(frames)"
   ]
  },
  {
   "cell_type": "code",
   "execution_count": 16,
   "metadata": {},
   "outputs": [
    {
     "data": {
      "text/plain": [
       "\" Let's have another go and let's see if this time we can make it go longer, shorter or whatever. Because I just want to stay calm. So I've got H314S and it has a decent in-time sentence.\""
      ]
     },
     "execution_count": 16,
     "metadata": {},
     "output_type": "execute_result"
    }
   ],
   "source": [
    "text"
   ]
  },
  {
   "cell_type": "code",
   "execution_count": 10,
   "metadata": {},
   "outputs": [],
   "source": [
    "import text_to_morse"
   ]
  },
  {
   "cell_type": "code",
   "execution_count": 11,
   "metadata": {},
   "outputs": [
    {
     "data": {
      "text/plain": [
       "'/ --- -.- .- -.--  / ... --- / ..  -- / --. --- -. -. .- / - . ... - / - .... .. ... / .- --. .- .. -. / .--- ..- ... - / - --- / -- .- -.- . / ... ..- .-. . / - .... .- - / .. - / .. ... / .- -.-. - ..- .- .-.. .-.. -.-- / .-- --- .-. -.- .. -. --.  / .. / -.. --- -.  - / -.- -. --- .-- / .-- .... -.-- / .... .  ... / --. --- - / .- .-.. .-.. / - .... . ... . / -. --- -.  . -. --. .-.. .. ... .... / -.-. .... .- .-. .- -.-. - . .-. ...  / -... ..- - / -.-- . .- .... '"
      ]
     },
     "execution_count": 11,
     "metadata": {},
     "output_type": "execute_result"
    }
   ],
   "source": [
    "text_to_morse.translate(text)"
   ]
  },
  {
   "cell_type": "code",
   "execution_count": 12,
   "metadata": {},
   "outputs": [],
   "source": [
    "speech_to_text.text_to_beeps(text)"
   ]
  }
 ],
 "metadata": {
  "kernelspec": {
   "display_name": "hack23",
   "language": "python",
   "name": "python3"
  },
  "language_info": {
   "codemirror_mode": {
    "name": "ipython",
    "version": 3
   },
   "file_extension": ".py",
   "mimetype": "text/x-python",
   "name": "python",
   "nbconvert_exporter": "python",
   "pygments_lexer": "ipython3",
   "version": "3.11.3"
  },
  "orig_nbformat": 4
 },
 "nbformat": 4,
 "nbformat_minor": 2
}
